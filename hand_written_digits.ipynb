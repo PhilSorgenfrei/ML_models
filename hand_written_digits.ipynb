{
 "cells": [
  {
   "cell_type": "markdown",
   "metadata": {},
   "source": [
    "# Hand-written digits classifier with tensorflow \n",
    "\n",
    "This notebook is my personal tutorial for building a hand-written image classifier with tensorflow. It is based both on tensorflow's tutorial on convolutional neural networks (CNN) as well as on various blogs and experimentation (see 'sources' section). \n",
    "\n",
    "I am using the MNIST database (https://en.wikipedia.org/wiki/MNIST_database) running first a two-layer dense neural network (with some tuning) and subsequently a three-layer CNN. A more complex CNN would outperform this setup, however, the training is run with limited compute power on a local machine.  "
   ]
  },
  {
   "cell_type": "code",
   "execution_count": 1,
   "metadata": {},
   "outputs": [],
   "source": [
    "# import libraries\n",
    "import matplotlib.pyplot as plt\n",
    "import numpy as np\n",
    "import pandas as pd\n",
    "import seaborn as sns\n",
    "import tensorflow as tf\n",
    "\n",
    "# set style for seaborn charts \n",
    "sns.set_style(\"whitegrid\")\n",
    "%matplotlib inline"
   ]
  },
  {
   "cell_type": "markdown",
   "metadata": {},
   "source": [
    "## Import data"
   ]
  },
  {
   "cell_type": "code",
   "execution_count": 3,
   "metadata": {},
   "outputs": [
    {
     "name": "stdout",
     "output_type": "stream",
     "text": [
      "Extracting data\\MNIST\\train-images-idx3-ubyte.gz\n",
      "Extracting data\\MNIST\\train-labels-idx1-ubyte.gz\n",
      "Extracting data\\MNIST\\t10k-images-idx3-ubyte.gz\n",
      "Extracting data\\MNIST\\t10k-labels-idx1-ubyte.gz\n"
     ]
    }
   ],
   "source": [
    "# import database \n",
    "from tensorflow.examples.tutorials.mnist import input_data\n",
    "\n",
    "# The 'read_data_sets' property downloads the data during the first execution -\n",
    "# and acceses it locally thereafter\n",
    "DATASET = input_data.read_data_sets('data\\\\MNIST')\n",
    "\n",
    "# extract training and evaluation sets as numpy arrays \n",
    "train_data = DATASET.train.images  \n",
    "train_labels = np.asarray(DATASET.train.labels, dtype=np.int32)\n",
    "eval_data = DATASET.test.images  \n",
    "eval_labels = np.asarray(DATASET.test.labels, dtype=np.int32)\n",
    "\n",
    "# reduce verbose output\n",
    "tf.logging.set_verbosity(tf.logging.WARN)"
   ]
  },
  {
   "cell_type": "markdown",
   "metadata": {},
   "source": [
    "## A look at the data"
   ]
  },
  {
   "cell_type": "code",
   "execution_count": 4,
   "metadata": {},
   "outputs": [
    {
     "name": "stdout",
     "output_type": "stream",
     "text": [
      "(55000, 784)\n",
      "(10000, 784)\n",
      "(55000,)\n",
      "(10000,)\n"
     ]
    }
   ],
   "source": [
    "# Looking at the input shapes \n",
    "print(train_data.shape)\n",
    "print(eval_data.shape)\n",
    "print(train_labels.shape)\n",
    "print(eval_labels.shape)"
   ]
  },
  {
   "cell_type": "markdown",
   "metadata": {},
   "source": [
    "There are **55,000 greyscale images in the training data and 10,000 in the evaluation set.** Each image has 28x28 pixels, which are flattened into the second dimension of the array as **784** floating point values. The labels are encoded in one dimension as integers beteween 0-9 (i.e., not one-hot-encoded)"
   ]
  },
  {
   "cell_type": "code",
   "execution_count": 12,
   "metadata": {},
   "outputs": [
    {
     "data": {
      "text/plain": [
       "<matplotlib.axes._subplots.AxesSubplot at 0x1df471eee10>"
      ]
     },
     "execution_count": 12,
     "metadata": {},
     "output_type": "execute_result"
    },
    {
     "data": {
      "image/png": "[encoded data removed]",
      "text/plain": [
       "<Figure size 432x288 with 1 Axes>"
      ]
     },
     "metadata": {
      "needs_background": "light"
     },
     "output_type": "display_data"
    }
   ],
   "source": [
    "# looking at the dstribution of the pixel values of the combined first 20 images\n",
    "sns.distplot(np.ndarray.flatten(train_data[0:20, :]))"
   ]
  },
  {
   "cell_type": "markdown",
   "metadata": {},
   "source": [
    "Pixels may each take a **value between 0-1.** We see that most pixels are black (i.e., pixel value of 0) "
   ]
  },
  {
   "cell_type": "code",
   "execution_count": 18,
   "metadata": {},
   "outputs": [
    {
     "data": {
      "image/png": "[encoded data removed]",
      "text/plain": [
       "<Figure size 432x288 with 1 Axes>"
      ]
     },
     "metadata": {
      "needs_background": "light"
     },
     "output_type": "display_data"
    },
    {
     "name": "stdout",
     "output_type": "stream",
     "text": [
      "The label is: 3\n"
     ]
    }
   ],
   "source": [
    "# Looking at a sample image \n",
    "index = 1 \n",
    "image = train_data[index]\n",
    "# reshape to 28x28 pixels \n",
    "image = image.reshape([28, 28])\n",
    "plt.imshow(image, cmap='gray')\n",
    "plt.show()\n",
    "print(\"The label is:\", str(train_labels[index]))"
   ]
  },
  {
   "cell_type": "markdown",
   "metadata": {},
   "source": [
    "## Prepare model input functions\n",
    "\n",
    "A few notes on the input functions: \n",
    "\n",
    "- Be careful to **deactivate shuffle for evaluation** \n",
    "- Make sure that **num_epochs == 0 for training.** This lets the model run until it has gone through the number of steps specified in the training function (and not stop once it has run through 1 epoch, which is the default when not specified)\n",
    "- Make sure the name of the input feature ('x' here) matches the name of the input feature in the dictionary <x = dict({'x': features})>"
   ]
  },
  {
   "cell_type": "code",
   "execution_count": 22,
   "metadata": {},
   "outputs": [],
   "source": [
    "# PREPARE MODEL INPUT\n",
    "\n",
    "# create feature column of the shape (784, None) \n",
    "def flat_features():\n",
    "    return [tf.contrib.layers.real_valued_column(\"x\", dimension=train_data.shape[1])]\n",
    " \n",
    "# create input function.  \n",
    "def make_input_fn(features, labels, num_epochs, shuffle_state=False):\n",
    "    \"\"\"\n",
    "    features -- numpy array of featurs of the shape (samples, features)\n",
    "    labels -- numpy array of labels of the shape (labels,)\n",
    "    num_empochs -- set to 0 for training and 1 for evaluation and predicting \n",
    "    shuffle_state -- set to True for training \n",
    "    \"\"\"\n",
    "    return tf.estimator.inputs.numpy_input_fn(\n",
    "        x = dict({'x': features}),\n",
    "        y = labels,\n",
    "        batch_size = 128,\n",
    "        num_epochs = num_epochs,\n",
    "        shuffle = shuffle_state,\n",
    "        queue_capacity = 1000,\n",
    "        num_threads = 1,    \n",
    "    )    "
   ]
  },
  {
   "cell_type": "markdown",
   "metadata": {},
   "source": [
    "## Define train and evaluate function for fully connected DNN"
   ]
  },
  {
   "cell_type": "code",
   "execution_count": 21,
   "metadata": {},
   "outputs": [],
   "source": [
    "def dnn_train_and_evaluate(output_dir, num_train_steps, learning_rate, batch_norm, dropout):\n",
    "    \"\"\"\n",
    "    Arguments: \n",
    "        output_dir -- directory to save log files during training \n",
    "        num_train_steps -- number of steps (i.e, batches) to train for \n",
    "        learning_rate -- learning rate \n",
    "        batch_norm -- set to True to apply batch normalization for each hidden layer \n",
    "        dropout -- choose dropout rate for hidden layers\n",
    "    Returns:\n",
    "        model instance \n",
    "    \"\"\"\n",
    "    # Specify output directory  \n",
    "    run_config = tf.estimator.RunConfig(\n",
    "                 model_dir=output_dir,      \n",
    "                 save_summary_steps=100,                       \n",
    "                 save_checkpoints_steps=100 # dictates max frequency of evaluations during training\n",
    "                )    \n",
    "    \n",
    "    # set optimization hyperparameters \n",
    "    optimizer = tf.train.AdamOptimizer(learning_rate=learning_rate)\n",
    "    \n",
    "    # specify model \n",
    "    estimator = tf.estimator.DNNClassifier(hidden_units=[128, 32],\n",
    "                                           n_classes=10,\n",
    "                                           config=run_config,\n",
    "                                           feature_columns = flat_features(),\n",
    "                                           optimizer = optimizer,\n",
    "                                           activation_fn=tf.nn.relu,\n",
    "                                           dropout=dropout,\n",
    "                                           batch_norm=batch_norm)\n",
    "         \n",
    "    # specify train set\n",
    "    train_spec = tf.estimator.TrainSpec(input_fn = make_input_fn(train_data, \n",
    "                                                                 train_labels, \n",
    "                                                                 shuffle_state=True,\n",
    "                                                                 num_epochs=None), \n",
    "                                        max_steps = num_train_steps)\n",
    "    \n",
    "    # specify eval set \n",
    "    eval_spec = tf.estimator.EvalSpec(input_fn = make_input_fn(eval_data, \n",
    "                                                               eval_labels,\n",
    "                                                               shuffle_state=False,\n",
    "                                                               num_epochs=1), \n",
    "                                        steps = None, \n",
    "                                        throttle_secs = 5)  # evaluates no more than every 5 seconds\n",
    "    \n",
    "    tf.estimator.train_and_evaluate(estimator, train_spec, eval_spec)\n",
    "    \n",
    "    return estimator"
   ]
  },
  {
   "cell_type": "markdown",
   "metadata": {},
   "source": [
    "## Run baseline model "
   ]
  },
  {
   "cell_type": "code",
   "execution_count": 36,
   "metadata": {},
   "outputs": [],
   "source": [
    "# run baseline model\n",
    "baseline_model = dnn_train_and_evaluate(output_dir='CHECKPOINTS/MNIST_model/baseline1', \n",
    "                                   num_train_steps = 10000, \n",
    "                                   learning_rate = 0.01, \n",
    "                                   batch_norm = False, \n",
    "                                   dropout = 0\n",
    "                                  )"
   ]
  },
  {
   "cell_type": "markdown",
   "metadata": {},
   "source": [
    "### Calculate final accuracy on the train and evaluation sets"
   ]
  },
  {
   "cell_type": "code",
   "execution_count": 37,
   "metadata": {},
   "outputs": [],
   "source": [
    "# calculate final accuracy on train and evaluation sets \n",
    "def show_accuracy(model): \n",
    "    eval_accuracy = model.evaluate(input_fn = make_input_fn(eval_data, eval_labels, \n",
    "                                                                 shuffle_state=False,\n",
    "                                                                 num_epochs=1\n",
    "                                                                ))['accuracy']\n",
    "    train_accuracy = model.evaluate(input_fn = make_input_fn(train_data, train_labels, \n",
    "                                                                 shuffle_state=False,\n",
    "                                                                 num_epochs=1\n",
    "                                                                ))['accuracy']\n",
    "\n",
    "    print(\"evaluation accuracy:\", str(100*eval_accuracy))\n",
    "    print(\"training accuracy:\", str(100*train_accuracy))"
   ]
  },
  {
   "cell_type": "markdown",
   "metadata": {},
   "source": [
    "After 10,000 iterations, the baseline model shows an accuracy of 97,12% on the evaluation set "
   ]
  },
  {
   "cell_type": "code",
   "execution_count": 38,
   "metadata": {},
   "outputs": [
    {
     "name": "stdout",
     "output_type": "stream",
     "text": [
      "evaluation accuracy: 97.11999893188477\n",
      "training accuracy: 99.12182092666626\n"
     ]
    }
   ],
   "source": [
    "show_accuracy(baseline_model)"
   ]
  },
  {
   "cell_type": "markdown",
   "metadata": {},
   "source": [
    "### Show a sample and the overall number of incorrect predictions "
   ]
  },
  {
   "cell_type": "code",
   "execution_count": 31,
   "metadata": {},
   "outputs": [],
   "source": [
    "# show incorrect predictions in the evaluation dataset \n",
    "def show_incorrect_predictions(model): \n",
    "    # the predict method returns an iterator object from which we have to extract the class prediction\n",
    "    predictions = list(model.predict(input_fn = make_input_fn(eval_data, eval_labels,\n",
    "                                                                 shuffle_state=False,\n",
    "                                                                 num_epochs=1)))\n",
    "    predicted_classes = [p['class_ids'] for p in predictions]\n",
    "    \n",
    "    # get all labels and subtract them from predicted labels \n",
    "    predicted_classes = np.reshape(np.array(predicted_classes), (10000,))\n",
    "    delta_array = predicted_classes - eval_labels\n",
    "    \n",
    "    # find index of wrongly classified images \n",
    "    error_index = np.nonzero(delta_array)[0]\n",
    "    \n",
    "    # choose random mis-classified images \n",
    "    error_sample = np.random.choice(error_index, 3)\n",
    "\n",
    "    # print mis_classified images \n",
    "    for i in error_sample: \n",
    "        print(\"Prediction:\", str(predicted_classes[i]))\n",
    "        print(\"Label:\", str(eval_labels[i]))\n",
    "        image = eval_data[i]\n",
    "        image = image.reshape([28, 28]);\n",
    "        plt.imshow(image, cmap='gray')\n",
    "        plt.show()\n",
    "   \n",
    "    return len(error_index)\n",
    "    "
   ]
  },
  {
   "cell_type": "code",
   "execution_count": 39,
   "metadata": {},
   "outputs": [
    {
     "name": "stdout",
     "output_type": "stream",
     "text": [
      "Prediction: 6\n",
      "Label: 4\n"
     ]
    },
    {
     "data": {
      "image/png": "[encoded data removed]",
      "text/plain": [
       "<Figure size 432x288 with 1 Axes>"
      ]
     },
     "metadata": {
      "needs_background": "light"
     },
     "output_type": "display_data"
    },
    {
     "name": "stdout",
     "output_type": "stream",
     "text": [
      "Prediction: 2\n",
      "Label: 3\n"
     ]
    },
    {
     "data": {
      "image/png": "[encoded data removed]",
      "text/plain": [
       "<Figure size 432x288 with 1 Axes>"
      ]
     },
     "metadata": {
      "needs_background": "light"
     },
     "output_type": "display_data"
    },
    {
     "name": "stdout",
     "output_type": "stream",
     "text": [
      "Prediction: 7\n",
      "Label: 2\n"
     ]
    },
    {
     "data": {
      "image/png": "[encoded data removed]",
      "text/plain": [
       "<Figure size 432x288 with 1 Axes>"
      ]
     },
     "metadata": {
      "needs_background": "light"
     },
     "output_type": "display_data"
    }
   ],
   "source": [
    "num_errors = show_incorrect_predictions(baseline_model)"
   ]
  },
  {
   "cell_type": "markdown",
   "metadata": {},
   "source": [
    "#### The baseline model misclassified 288 images overall"
   ]
  },
  {
   "cell_type": "code",
   "execution_count": 40,
   "metadata": {},
   "outputs": [
    {
     "name": "stdout",
     "output_type": "stream",
     "text": [
      "288\n"
     ]
    }
   ],
   "source": [
    "print(num_errors)"
   ]
  },
  {
   "cell_type": "markdown",
   "metadata": {},
   "source": [
    "## Batchnorm and dropout model \n",
    "\n",
    "From the average loss during training we can see that the previous model started overfitting on the training data, i.e., the loss on the evaluation set starting to get worse again. The next model will thus include dropout regularization to address this. It will also run with batch normalization to prevent the ReLU neurons from \"dying\"  "
   ]
  },
  {
   "cell_type": "markdown",
   "metadata": {},
   "source": [
    "<img src='images\\MNIST_01.PNG' width='600' height='600'/>"
   ]
  },
  {
   "cell_type": "code",
   "execution_count": 41,
   "metadata": {},
   "outputs": [],
   "source": [
    "# run model with batch normalization and dropout regularization \n",
    "batchnorm_model = dnn_train_and_evaluate(output_dir='CHECKPOINTS/MNIST_model/model1', \n",
    "                                   num_train_steps = 10000, \n",
    "                                   learning_rate = 0.01, \n",
    "                                   batch_norm = True, \n",
    "                                   dropout = 0.08\n",
    "                                  )"
   ]
  },
  {
   "cell_type": "markdown",
   "metadata": {},
   "source": [
    "The second model slightly impoves on the eval set accuracy against the baseline model:\n",
    "- Baseline model: 97.12%\n",
    "- Batchnorm model: 97.59%"
   ]
  },
  {
   "cell_type": "code",
   "execution_count": 45,
   "metadata": {},
   "outputs": [
    {
     "name": "stdout",
     "output_type": "stream",
     "text": [
      "evaluation accuracy: 97.58999943733215\n",
      "training accuracy: 99.29090738296509\n"
     ]
    }
   ],
   "source": [
    "show_accuracy(batchnorm_model)"
   ]
  },
  {
   "cell_type": "code",
   "execution_count": 46,
   "metadata": {},
   "outputs": [
    {
     "name": "stdout",
     "output_type": "stream",
     "text": [
      "Prediction: 3\n",
      "Label: 7\n"
     ]
    },
    {
     "data": {
      "image/png": "[encoded data removed]",
      "text/plain": [
       "<Figure size 432x288 with 1 Axes>"
      ]
     },
     "metadata": {
      "needs_background": "light"
     },
     "output_type": "display_data"
    },
    {
     "name": "stdout",
     "output_type": "stream",
     "text": [
      "Prediction: 7\n",
      "Label: 2\n"
     ]
    },
    {
     "data": {
      "image/png": "[encoded data removed]",
      "text/plain": [
       "<Figure size 432x288 with 1 Axes>"
      ]
     },
     "metadata": {
      "needs_background": "light"
     },
     "output_type": "display_data"
    },
    {
     "name": "stdout",
     "output_type": "stream",
     "text": [
      "Prediction: 6\n",
      "Label: 4\n"
     ]
    },
    {
     "data": {
      "image/png": "[encoded data removed]",
      "text/plain": [
       "<Figure size 432x288 with 1 Axes>"
      ]
     },
     "metadata": {
      "needs_background": "light"
     },
     "output_type": "display_data"
    }
   ],
   "source": [
    "num_errors = show_incorrect_predictions(batchnorm_model)"
   ]
  },
  {
   "cell_type": "markdown",
   "metadata": {},
   "source": [
    "The total number of errors has increased relative to the baseline model:\n",
    "- Baseline model: 288\n",
    "- Batchnorm model: 241 "
   ]
  },
  {
   "cell_type": "code",
   "execution_count": 47,
   "metadata": {},
   "outputs": [
    {
     "name": "stdout",
     "output_type": "stream",
     "text": [
      "241\n"
     ]
    }
   ],
   "source": [
    "print(num_errors)"
   ]
  },
  {
   "cell_type": "markdown",
   "metadata": {},
   "source": [
    "We can see the effect of the normalization when comparing the average losses of the two models. While the training losses (in red and burgundy) are quite similar, eval set loss of the second model (in green) stabilizes rather than getting worse again as training goes on:\n",
    "\n",
    "<img src='images\\MNIST_02.PNG' width='600' height='600'/>"
   ]
  },
  {
   "cell_type": "markdown",
   "metadata": {},
   "source": [
    "## Convolutional neural network "
   ]
  },
  {
   "cell_type": "markdown",
   "metadata": {},
   "source": [
    "We can keep the input serving function from the previous model and will define a two-layer CNN (as is done in the tensorflow tutorial) which will be integrated into a train_and_evaluate function. \n",
    "\n",
    "Here is the CNN configuration: \n",
    "\n",
    "- Convolutional Layer #1: Applies 32 5x5 filters, with ReLU activation function\n",
    "- Pooling Layer #1: Performs max pooling with a 2x2 filter and stride of 2 \n",
    "- Convolutional Layer #2: Applies 64 5x5 filters, with ReLU activation function\n",
    "- Pooling Layer #2: Performs max pooling with a 2x2 filter and stride of 2\n",
    "- Pooling Layer #2: Performs max pooling with a 2x2 filter and stride of 2\n",
    "- Dense Layer #1: 1,024 neurons, with dropout regularization rate of 0.4 (probability of 0.4 that any given element will be dropped during training)\n",
    "- Dense Layer #2 (Logits Layer): 10 neurons, one for each digit target class (0–9).\n",
    "\n",
    "Below is the graph representation from tensorboard:"
   ]
  },
  {
   "cell_type": "markdown",
   "metadata": {},
   "source": [
    "<img src='images\\CNN_MNIST.PNG' width='400' height='400'/>"
   ]
  },
  {
   "cell_type": "markdown",
   "metadata": {},
   "source": [
    "### Writing the model function"
   ]
  },
  {
   "cell_type": "code",
   "execution_count": 49,
   "metadata": {},
   "outputs": [],
   "source": [
    "# create the CNN function \n",
    "def cnn_model_fn(features, labels, mode):\n",
    "    \"\"\"\n",
    "    features, labels -- as returned from the input function \n",
    "    mode -- from tf.estimator.ModeKeys: TRAIN, EVAL, PREDICT\n",
    "    \n",
    "    \"\"\"\n",
    "    # Input Layer: using -1 as input leads the function to infer this dimension based on the input \n",
    "    # i.e., the number of samples. The input will have the sahpe (samples, 28, 28, channels)\n",
    "    input_layer = tf.reshape(features['x'], [-1, 28, 28, 1])\n",
    "\n",
    "    # Convolutional Layer #1\n",
    "    # 'Same' padding adds two zero rows and columns to the input to make sure output is (-1, 28, 28, 32) \n",
    "    conv1 = tf.layers.conv2d(inputs=input_layer,\n",
    "                             filters=32,\n",
    "                             kernel_size=[5, 5],\n",
    "                             padding=\"same\",\n",
    "                             activation=tf.nn.relu)\n",
    "\n",
    "    # Pooling Layer #1 -- reduces the size to (-1, 14, 14, 32)\n",
    "    pool1 = tf.layers.max_pooling2d(inputs=conv1, pool_size=[2, 2], strides=2)\n",
    "\n",
    "    # Convolutional Layer #2 and Pooling Layer #2\n",
    "    # Transforms the (-1, 14, 14, 32) input into a (-1, 14, 14, 64) output\n",
    "    conv2 = tf.layers.conv2d(inputs=pool1,\n",
    "                             filters=64,\n",
    "                             kernel_size=[5, 5],\n",
    "                             padding=\"same\",\n",
    "                             activation=tf.nn.relu)\n",
    "\n",
    "    # Pooling Layer #2\n",
    "    # Transforms the (-1, 14, 14, 64) input into a (-1, 7, 7, 64) output\n",
    "    pool2 = tf.layers.max_pooling2d(inputs=conv2, pool_size=[2, 2], strides=2)\n",
    "\n",
    "    # Dense Layer -- transforms the input into one column vector output and passes it through a dense layer\n",
    "    pool2_flat = tf.reshape(pool2, [-1, 7 * 7 * 64])\n",
    "    dense = tf.layers.dense(inputs=pool2_flat, units=1024, activation=tf.nn.relu)\n",
    "    \n",
    "    # checks if mode is TRAIN and applies dropout (otherwise not)\n",
    "    dropout = tf.layers.dropout(inputs=dense, \n",
    "                                rate=0.4, \n",
    "                                training=mode == tf.estimator.ModeKeys.TRAIN)\n",
    "\n",
    "    # Logits Layer (output layer) -- outputs shape of (samples, features)\n",
    "    logits = tf.layers.dense(inputs=dropout, units=10)\n",
    "        \n",
    "    # create dictionaries of classes and probabilities going row by row through input \n",
    "    predictions = {\n",
    "        # Generate predictions (for PREDICT and EVAL mode). \n",
    "        # tf.argmax returns index of largest values along feature axis (i.e., number 0-9)\n",
    "        \"classes\": tf.argmax(input=logits, axis=1),\n",
    "        # Add `softmax_tensor` to the graph. It is used for PREDICT\n",
    "        \"probabilities\": tf.nn.softmax(logits, name=\"softmax_tensor\")\n",
    "    }\n",
    "\n",
    "    # tf.estimator.EstimatorSpec creates an iterable where the output and input depends \n",
    "    # on the mode (TRAIN, EVAL, PREDICT)\n",
    "    if mode == tf.estimator.ModeKeys.PREDICT:\n",
    "        return tf.estimator.EstimatorSpec(mode=mode, predictions=predictions)\n",
    "\n",
    "    # Calculate Loss (for both TRAIN and EVAL modes)\n",
    "    loss = tf.losses.sparse_softmax_cross_entropy(labels=labels, logits=logits)\n",
    "\n",
    "    # Configure the Training Op (for TRAIN mode)\n",
    "    if mode == tf.estimator.ModeKeys.TRAIN:\n",
    "        optimizer = tf.train.GradientDescentOptimizer(learning_rate=0.001)\n",
    "        train_op = optimizer.minimize(loss=loss,\n",
    "                                      global_step=tf.train.get_global_step())\n",
    "        return tf.estimator.EstimatorSpec(mode=mode, loss=loss, train_op=train_op)\n",
    "\n",
    "    # Add evaluation metrics (for EVAL mode)\n",
    "    eval_metric_ops = {\n",
    "          \"accuracy\": tf.metrics.accuracy(\n",
    "          labels=labels, predictions=predictions[\"classes\"])}\n",
    "    return tf.estimator.EstimatorSpec(mode=mode, loss=loss, eval_metric_ops=eval_metric_ops)"
   ]
  },
  {
   "cell_type": "markdown",
   "metadata": {},
   "source": [
    "### Writing the new train and evaluate function "
   ]
  },
  {
   "cell_type": "code",
   "execution_count": 51,
   "metadata": {},
   "outputs": [],
   "source": [
    "# create the train and evaluate function\n",
    "def cnn_train_and_evaluate(output_dir, num_train_steps):\n",
    "    \n",
    "    # Specify output directory  \n",
    "    run_config = tf.estimator.RunConfig(\n",
    "                 model_dir=output_dir,      \n",
    "                 save_summary_steps=50,                       \n",
    "                 save_checkpoints_steps=50)   # dictates max frequency of eval\n",
    "    \n",
    "    \n",
    "    # specify model \n",
    "    estimator = tf.estimator.Estimator(model_fn=cnn_model_fn, model_dir=output_dir,\n",
    "                                      config = run_config)\n",
    "         \n",
    "    # specify train set\n",
    "    train_spec = tf.estimator.TrainSpec(input_fn = make_input_fn(train_data, \n",
    "                                                                 train_labels, \n",
    "                                                                 shuffle_state=True,\n",
    "                                                                 num_epochs=None), \n",
    "                                        max_steps = num_train_steps)\n",
    "    \n",
    "    # specify eval set \n",
    "    eval_spec = tf.estimator.EvalSpec(input_fn = make_input_fn(eval_data, \n",
    "                                                               eval_labels,\n",
    "                                                               shuffle_state=False,\n",
    "                                                               num_epochs=1), \n",
    "                                        steps = None, \n",
    "                                        throttle_secs = 5)  # evaluates no more than every 5 seconds\n",
    "    \n",
    "    tf.estimator.train_and_evaluate(estimator, train_spec, eval_spec)\n",
    "    \n",
    "    return estimator"
   ]
  },
  {
   "cell_type": "markdown",
   "metadata": {},
   "source": [
    "## Run CNN model"
   ]
  },
  {
   "cell_type": "code",
   "execution_count": 55,
   "metadata": {},
   "outputs": [],
   "source": [
    "cnn_model = cnn_train_and_evaluate(output_dir='CHECKPOINTS/MNIST_model/cnn', \n",
    "                                       num_train_steps = 10000)   "
   ]
  },
  {
   "cell_type": "markdown",
   "metadata": {},
   "source": [
    "After **10,000 steps**, the evaluation set accuracy has reached 95.31%. Interestingly, at this stage this is higher than the accuracy on the training set at 94.97%, though I would expect this to be driven by chance and potentially the eval set to be slightly easier than the train set. \n",
    "\n"
   ]
  },
  {
   "cell_type": "code",
   "execution_count": 56,
   "metadata": {},
   "outputs": [
    {
     "name": "stdout",
     "output_type": "stream",
     "text": [
      "evaluation accuracy: 95.31000256538391\n",
      "training accuracy: 94.98181939125061\n"
     ]
    }
   ],
   "source": [
    "show_accuracy(cnn_model)"
   ]
  },
  {
   "cell_type": "markdown",
   "metadata": {},
   "source": [
    "Looking at the **tensorboard output**, we can see that the accuracy is still steadily improving at this point and could likely close the gap with the previous two models if given the time and compute resources.\n",
    "\n",
    "(orange == CNN model eval set accuracy, green line == DNN model eval set accuracy) \n",
    "\n",
    "\n",
    "<img src='images\\CNN_train.PNG' width='600' height='600'/>"
   ]
  },
  {
   "cell_type": "markdown",
   "metadata": {},
   "source": [
    "### Looking at the errors"
   ]
  },
  {
   "cell_type": "code",
   "execution_count": 61,
   "metadata": {},
   "outputs": [
    {
     "name": "stdout",
     "output_type": "stream",
     "text": [
      "Prediction: 2\n",
      "Label: 7\n"
     ]
    },
    {
     "data": {
      "image/png": "[encoded data removed]",
      "text/plain": [
       "<Figure size 432x288 with 1 Axes>"
      ]
     },
     "metadata": {
      "needs_background": "light"
     },
     "output_type": "display_data"
    },
    {
     "name": "stdout",
     "output_type": "stream",
     "text": [
      "Prediction: 1\n",
      "Label: 6\n"
     ]
    },
    {
     "data": {
      "image/png": "[encoded data removed]",
      "text/plain": [
       "<Figure size 432x288 with 1 Axes>"
      ]
     },
     "metadata": {
      "needs_background": "light"
     },
     "output_type": "display_data"
    },
    {
     "name": "stdout",
     "output_type": "stream",
     "text": [
      "Prediction: 8\n",
      "Label: 9\n"
     ]
    },
    {
     "data": {
      "image/png": "[encoded data removed]",
      "text/plain": [
       "<Figure size 432x288 with 1 Axes>"
      ]
     },
     "metadata": {
      "needs_background": "light"
     },
     "output_type": "display_data"
    }
   ],
   "source": [
    "predictions = list(cnn_model.predict(input_fn = make_input_fn(eval_data, eval_labels,\n",
    "                                                                 shuffle_state=False,\n",
    "                                                                 num_epochs=1)))\n",
    "predicted_classes = [p['classes'] for p in predictions]\n",
    "    \n",
    "# get all labels and subtract them from predicted labels \n",
    "predicted_classes = np.reshape(np.array(predicted_classes), (10000,))\n",
    "delta_array = predicted_classes - eval_labels\n",
    "    \n",
    "# find index of wrongly classified images \n",
    "error_index = np.nonzero(delta_array)[0]\n",
    "    \n",
    "# choose random mis-classified images \n",
    "error_sample = np.random.choice(error_index, 3)\n",
    "\n",
    "# print mis_classified images \n",
    "for i in error_sample: \n",
    "    print(\"Prediction:\", str(predicted_classes[i]))\n",
    "    print(\"Label:\", str(eval_labels[i]))\n",
    "    image = eval_data[i]\n",
    "    image = image.reshape([28, 28]);\n",
    "    plt.imshow(image, cmap='gray')\n",
    "    plt.show()"
   ]
  },
  {
   "cell_type": "code",
   "execution_count": 62,
   "metadata": {},
   "outputs": [
    {
     "name": "stdout",
     "output_type": "stream",
     "text": [
      "469\n"
     ]
    }
   ],
   "source": [
    "print(len(error_index))"
   ]
  },
  {
   "cell_type": "markdown",
   "metadata": {},
   "source": [
    "### Sources\n",
    "- https://www.tensorflow.org/tutorials/estimators/cnn\n",
    "- https://sefiks.com/2017/09/11/handwritten-digit-classification-with-tensorflow"
   ]
  }
 ],
 "metadata": {
  "kernelspec": {
   "display_name": "Python 3",
   "language": "python",
   "name": "python3"
  },
  "language_info": {
   "codemirror_mode": {
    "name": "ipython",
    "version": 3
   },
   "file_extension": ".py",
   "mimetype": "text/x-python",
   "name": "python",
   "nbconvert_exporter": "python",
   "pygments_lexer": "ipython3",
   "version": "3.6.7"
  }
 },
 "nbformat": 4,
 "nbformat_minor": 2
}
